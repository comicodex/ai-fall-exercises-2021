{
 "cells": [
  {
   "cell_type": "markdown",
   "metadata": {},
   "source": [
    "# OpenCV Callbacks"
   ]
  },
  {
   "cell_type": "code",
   "execution_count": 6,
   "metadata": {
    "ExecuteTime": {
     "end_time": "2019-11-19T09:54:11.762369Z",
     "start_time": "2019-11-19T09:54:09.945225Z"
    }
   },
   "outputs": [],
   "source": [
    "import cv2\n",
    "import numpy as np\n",
    "import matplotlib.pyplot as plt\n",
    "%matplotlib inline"
   ]
  },
  {
   "cell_type": "markdown",
   "metadata": {},
   "source": [
    "## Keyboard callbacks"
   ]
  },
  {
   "cell_type": "code",
   "execution_count": 1,
   "metadata": {
    "ExecuteTime": {
     "end_time": "2019-11-19T11:10:33.575331Z",
     "start_time": "2019-11-19T11:10:32.647518Z"
    }
   },
   "outputs": [],
   "source": [
    "# Load an image and show it on screen with cv2.imshow\n",
    "# When the key g or G is detected then change the image to show in grayscale\n",
    "# When the key c or C is detected then change the image to show in color\n",
    "# When the key t or T is detected then change the image to show the thresholded version of the image\n",
    "# When the key esc is detected close the image\n",
    "\n"
   ]
  },
  {
   "cell_type": "code",
   "execution_count": 7,
   "metadata": {},
   "outputs": [
    {
     "data": {
      "text/plain": [
       "-1"
      ]
     },
     "execution_count": 7,
     "metadata": {},
     "output_type": "execute_result"
    }
   ],
   "source": [
    "img = cv2.imread(\"img/miami.jpg\")\n",
    "copy_img = img.copy()\n",
    "key = 0\n",
    "window_name = \"Image\"\n",
    "\n",
    "cv2.namedWindow(window_name, cv2.WINDOW_AUTOSIZE)\n",
    "cv2.imshow(window_name, copy_img)\n",
    "\n",
    "while True:                 \n",
    "    if (key == ord(\"g\") or key == \"G\"):\n",
    "        gray_img = cv2.cvtColor(copy_img, cv2.COLOR_BGR2GRAY)    \n",
    "        cv2.imshow(\"Image\", gray_img)\n",
    "    \n",
    "    if (key == ord(\"c\") or key == \"C\"):\n",
    "        cv2.imshow(\"Image\", copy_img)\n",
    "        \n",
    "    if (key == ord(\"t\") or key == \"T\"):\n",
    "        ret, thresh = cv2.threshold(copy_img, 120, 255, cv2.THRESH_BINARY)\n",
    "        cv2.imshow(window_name, thresh)\n",
    "    \n",
    "    if (key == 27):\n",
    "        break\n",
    "        \n",
    "    key = cv2.waitKey(0) \n",
    "    \n",
    "cv2.destroyAllWindows()\n",
    "cv2.waitKey(1)"
   ]
  },
  {
   "cell_type": "markdown",
   "metadata": {},
   "source": [
    "[Hint](# \"You will need to use cv2.waitKey and python ord functions\") "
   ]
  },
  {
   "cell_type": "code",
   "execution_count": null,
   "metadata": {},
   "outputs": [],
   "source": [
    "# Do the same as above but using your webcam image \n"
   ]
  },
  {
   "cell_type": "markdown",
   "metadata": {},
   "source": [
    "[Hint](# \"You will need to use cv2.VideoCapture function\") "
   ]
  },
  {
   "cell_type": "markdown",
   "metadata": {},
   "source": [
    "## Mouse callbacks"
   ]
  },
  {
   "cell_type": "code",
   "execution_count": 12,
   "metadata": {},
   "outputs": [
    {
     "data": {
      "text/plain": [
       "-1"
      ]
     },
     "execution_count": 12,
     "metadata": {},
     "output_type": "execute_result"
    }
   ],
   "source": [
    "# Load an image and show it on screen with cv2.imshow\n",
    "# When the user clicks on top of the image save the coordinates\n",
    "# The user will then move the cursor without releasing the mouse button to another position\n",
    "# When the user releases the button draw a rectagle around the ROI\n",
    "# When the key esc is detected close the image\n",
    "\n",
    "img = cv2.imread(\"img/miami.jpg\")\n",
    "img_copy = img.copy()\n",
    "\n",
    "def draw_rectangle(event, x, y, flags, userdata):\n",
    "    if event == cv2.EVENT_LBUTTONUP:\n",
    "        cv2.rectangle(userdata, (x,y), (x+100,y+100), (0,255,0), -1)\n",
    "        cv2.imshow(window_name, userdata)\n",
    "\n",
    "window_name= \"Popup Window\"\n",
    "cv2.namedWindow(window_name)\n",
    "cv2.setMouseCallback(window_name, draw_rectangle, img_copy)\n",
    "\n",
    "while True:\n",
    "    cv2.imshow(window_name, img_copy)\n",
    "    if cv2.waitKey(0) & 0xFF == 27:\n",
    "        break\n",
    "        \n",
    "cv2.destroyAllWindows()\n",
    "cv2.waitKey(1)"
   ]
  },
  {
   "cell_type": "code",
   "execution_count": null,
   "metadata": {},
   "outputs": [],
   "source": []
  },
  {
   "cell_type": "code",
   "execution_count": 6,
   "metadata": {},
   "outputs": [],
   "source": [
    "# Crop and save the ROI image to disk \n"
   ]
  },
  {
   "cell_type": "markdown",
   "metadata": {},
   "source": [
    "[Hint](# \"cv2.setMouseCallback\") "
   ]
  },
  {
   "cell_type": "markdown",
   "metadata": {},
   "source": [
    "## Trackbars"
   ]
  },
  {
   "cell_type": "code",
   "execution_count": 2,
   "metadata": {
    "ExecuteTime": {
     "end_time": "2019-11-19T11:17:26.647991Z",
     "start_time": "2019-11-19T11:17:26.635749Z"
    }
   },
   "outputs": [
    {
     "data": {
      "text/plain": [
       "-1"
      ]
     },
     "execution_count": 2,
     "metadata": {},
     "output_type": "execute_result"
    }
   ],
   "source": [
    "# Create a named window, load and show an image in that window\n",
    "img = cv2.imread(\"img/miami.jpg\")\n",
    "window_name = \"My new window\"\n",
    "cv2.namedWindow(window_name)\n",
    "cv2.imshow(window_name, img)\n",
    "cv2.waitKey(0)\n",
    "cv2.destroyAllWindows()\n",
    "cv2.waitKey(1)"
   ]
  },
  {
   "cell_type": "markdown",
   "metadata": {},
   "source": [
    "[Hint](# \"cv2.namedWindow\") "
   ]
  },
  {
   "cell_type": "code",
   "execution_count": 16,
   "metadata": {},
   "outputs": [
    {
     "data": {
      "text/plain": [
       "-1"
      ]
     },
     "execution_count": 16,
     "metadata": {},
     "output_type": "execute_result"
    }
   ],
   "source": [
    "# Add at least 3 different trackbars to the window (choose of any parameters that you want to modify with them)\n",
    "# Each trackbar will modify some parameter of the image, write a function for each trackbar\n",
    "# When the user move the trackbar around the image should be updated accordingly\n",
    "# When the key esc is detected close the image\n",
    "image = img.copy()\n",
    "threshold_value = 0\n",
    "threshold_type = cv2.THRESH_BINARY\n",
    "threshold_types = [cv2.THRESH_BINARY, cv2.THRESH_BINARY_INV, cv2.THRESH_TOZERO, cv2.THRESH_TRUNC]\n",
    "window_name = \"Threshold window\"\n",
    "cv2.namedWindow(window_name, cv2.WINDOW_AUTOSIZE)\n",
    "\n",
    "def change_threshold_value(val):\n",
    "    threshold_value = val\n",
    "    ret, thresh = cv2.threshold(image, threshold_value, 255, threshold_type)\n",
    "    cv2.imshow(window_name, thresh)\n",
    "\n",
    "def change_threshold_type(val):\n",
    "    threshold_type = threshold_types[val] \n",
    "    ret, thresh = cv2.threshold(image, threshold_value, 255, threshold_type)\n",
    "    cv2.imshow(window_name, thresh)\n",
    "    \n",
    "cv2.createTrackbar(\"threshold value\", window_name, threshold_value, 255, change_threshold_value)\n",
    "cv2.createTrackbar(\"threshold type\", window_name, threshold_type, 4, change_threshold_type)\n",
    "\n",
    "cv2.imshow(window_name, image) \n",
    "cv2.waitKey(0) \n",
    "cv2.destroyAllWindows() \n",
    "cv2.waitKey(1)"
   ]
  },
  {
   "cell_type": "markdown",
   "metadata": {},
   "source": [
    "[Hint](# \"cv2.createTrackbar\") "
   ]
  },
  {
   "cell_type": "code",
   "execution_count": null,
   "metadata": {
    "ExecuteTime": {
     "end_time": "2019-11-19T11:17:40.562115Z",
     "start_time": "2019-11-19T11:17:39.321415Z"
    },
    "scrolled": false
   },
   "outputs": [],
   "source": [
    "# Do the same as above but using your webcam image so the trackbars will apply the changes on live image\n"
   ]
  }
 ],
 "metadata": {
  "kernelspec": {
   "display_name": "openCV",
   "language": "python",
   "name": "computer_vision"
  },
  "language_info": {
   "codemirror_mode": {
    "name": "ipython",
    "version": 3
   },
   "file_extension": ".py",
   "mimetype": "text/x-python",
   "name": "python",
   "nbconvert_exporter": "python",
   "pygments_lexer": "ipython3",
   "version": "3.8.5"
  }
 },
 "nbformat": 4,
 "nbformat_minor": 2
}
