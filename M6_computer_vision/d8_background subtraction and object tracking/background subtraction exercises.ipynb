{
 "cells": [
  {
   "cell_type": "code",
   "execution_count": 1,
   "metadata": {},
   "outputs": [],
   "source": [
    "import cv2\n",
    "import numpy as np\n",
    "import matplotlib.pyplot as plt\n",
    "%matplotlib inline"
   ]
  },
  {
   "cell_type": "code",
   "execution_count": 2,
   "metadata": {},
   "outputs": [],
   "source": [
    "subtractor = cv2.createBackgroundSubtractorMOG2(history=100, varThreshold=50, detectShadows=True)"
   ]
  },
  {
   "cell_type": "code",
   "execution_count": 3,
   "metadata": {},
   "outputs": [],
   "source": [
    "cam = cv2.VideoCapture(0) \n",
    "\n",
    "while True:\n",
    "    ret, frame = cam.read()\n",
    "    if frame is None:\n",
    "        break\n",
    "        \n",
    "    mask = subtractor.apply(frame) \n",
    "    cv2.imshow(\"Mask\", mask) \n",
    "    \n",
    "    key = cv2.waitKey(30) \n",
    "    if key == 27:\n",
    "        break\n",
    "        \n",
    "cv2.destroyAllWindows() \n",
    "cv2.waitKey(1) \n",
    "cam.release()"
   ]
  },
  {
   "cell_type": "code",
   "execution_count": 4,
   "metadata": {},
   "outputs": [
    {
     "data": {
      "text/plain": [
       "-1"
      ]
     },
     "execution_count": 4,
     "metadata": {},
     "output_type": "execute_result"
    }
   ],
   "source": [
    "# background subtraction from video\n",
    "video = cv2.VideoCapture(\"videos/video.avi\") \n",
    "\n",
    "sub = cv2.createBackgroundSubtractorMOG2(varThreshold=200)\n",
    "\n",
    "while True:\n",
    "    retval, frame1 = video.read() \n",
    "    \n",
    "    mask1 = sub.apply(frame1) \n",
    "     \n",
    "    cv2.imshow(\"mask\", mask1) \n",
    "    \n",
    "    key = cv2.waitKey(30) \n",
    "    if key == 27:\n",
    "        break\n",
    "        \n",
    "video.release() \n",
    "cv2.destroyAllWindows()\n",
    "cv2.waitKey(1)    \n"
   ]
  },
  {
   "cell_type": "code",
   "execution_count": null,
   "metadata": {},
   "outputs": [],
   "source": []
  },
  {
   "cell_type": "code",
   "execution_count": null,
   "metadata": {},
   "outputs": [],
   "source": []
  },
  {
   "cell_type": "code",
   "execution_count": null,
   "metadata": {},
   "outputs": [],
   "source": []
  }
 ],
 "metadata": {
  "kernelspec": {
   "display_name": "openCV",
   "language": "python",
   "name": "computer_vision"
  },
  "language_info": {
   "codemirror_mode": {
    "name": "ipython",
    "version": 3
   },
   "file_extension": ".py",
   "mimetype": "text/x-python",
   "name": "python",
   "nbconvert_exporter": "python",
   "pygments_lexer": "ipython3",
   "version": "3.8.5"
  }
 },
 "nbformat": 4,
 "nbformat_minor": 4
}
