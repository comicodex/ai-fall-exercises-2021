{
 "cells": [
  {
   "cell_type": "code",
   "execution_count": 1,
   "metadata": {
    "ExecuteTime": {
     "end_time": "2019-11-21T08:38:42.318902Z",
     "start_time": "2019-11-21T08:38:42.311109Z"
    }
   },
   "outputs": [],
   "source": [
    "import cv2\n",
    "import numpy as np\n",
    "import matplotlib.pyplot as plt\n",
    "%matplotlib inline"
   ]
  },
  {
   "cell_type": "markdown",
   "metadata": {},
   "source": [
    "### Template Matching"
   ]
  },
  {
   "cell_type": "code",
   "execution_count": null,
   "metadata": {},
   "outputs": [],
   "source": [
    "# Load img/WandoScene.jpg  as the main image\n",
    "scene = cv2.imread(\"img/WandoScene.jpg\")\n",
    "# Load img/waldo.jpg as the template\n",
    "template = cv2.imread(\"img/waldo.jpg\")\n",
    "# Corvert the images to grayscale\n",
    "scene_gray = cv2.cvtColor(scene, cv2.COLOR_BGR2GRAY) \n",
    "template_gray = cv2.cvtColor(template, cv2.)\n",
    "# Find the template in the image\n",
    "\n",
    "# Draw a rectagle around the the detected match\n"
   ]
  },
  {
   "cell_type": "code",
   "execution_count": null,
   "metadata": {},
   "outputs": [],
   "source": [
    "# Try with different waldo scenes\n"
   ]
  },
  {
   "cell_type": "code",
   "execution_count": null,
   "metadata": {},
   "outputs": [],
   "source": [
    "# How well did it work?, did it perform well with other images? \n"
   ]
  }
 ],
 "metadata": {
  "kernelspec": {
   "display_name": "openCV",
   "language": "python",
   "name": "computer_vision"
  },
  "language_info": {
   "codemirror_mode": {
    "name": "ipython",
    "version": 3
   },
   "file_extension": ".py",
   "mimetype": "text/x-python",
   "name": "python",
   "nbconvert_exporter": "python",
   "pygments_lexer": "ipython3",
   "version": "3.8.5"
  }
 },
 "nbformat": 4,
 "nbformat_minor": 2
}
