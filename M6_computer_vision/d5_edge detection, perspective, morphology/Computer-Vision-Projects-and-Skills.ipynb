{
 "cells": [
  {
   "cell_type": "markdown",
   "metadata": {},
   "source": [
    "# Computer Vision"
   ]
  },
  {
   "cell_type": "markdown",
   "metadata": {},
   "source": [
    "### List your new Computer Vision skills, usages and importance"
   ]
  },
  {
   "cell_type": "markdown",
   "metadata": {},
   "source": [
    "1. Skill 1: image annotation and color conversion (BGR, RGB, HSV, grayscale); it is important for correctly displaying images  \n",
    "2. Skill 2: splitting, modifying and merging color channels; useful for filtering out specific colors and modifying specific channels\n",
    "3. Skill 2: masking; useful for filtering out specific objects \n",
    "4. Skill 3: image transformations (translations, rotations, scaling); useful for exposing the model to a wide collection of variations of the images \n",
    "5. Skill 4: kernel creation and thresholding; useful for better isolating ROI and reducing noise\n",
    "6. Skill 5: perspective and morphological transformations (dilation, erosion); useful for getting better noise removal results and making images more detectable \n",
    "7. Skill 6: contour and edge detection; useful for shape analysis and detecting and recognizing objects \n",
    "8. Skill 7: creating object classifiers; useful for detecting and classifying objects \n",
    "9. Skill 8: background subtraction and object tracking; useful for detecting moving objects in videos from static objects \n",
    "10. Skill 9: object tracking with YOLO; useful for fast-tracking multiple objects simultaneously "
   ]
  },
  {
   "cell_type": "markdown",
   "metadata": {},
   "source": [
    "### List your projects with repository url"
   ]
  },
  {
   "cell_type": "markdown",
   "metadata": {},
   "source": [
    "### Meme creator\n",
    "Project description: creating a basic meme  \n",
    "Computer vision skills applied: object detection and annotation \n",
    "\n",
    "Repository url: [Example Project 1](https://github.com/comicodex/ai-fall-exercises-2021/blob/main/M6_computer_vision/d1_CV%20basics/Computer%20Vision%20Day%201%20.ipynb) \n",
    "\n",
    "### Car detector\n",
    "Project description: creating a classifier to detect cars  \n",
    "Computer vision skills applied: classifier creation and object detection \n",
    "\n",
    "Repository url: [Example Project 2](https://github.com/comicodex/ai-fall-exercises-2021/blob/main/M6_computer_vision/d7_template%20matching%2C%20corner%20and%20cascades/Mini%20projects.ipynb)\n",
    "\n",
    "### Object tracker\n",
    "Project description: creating a tracker  \n",
    "Computer vision skills applied: object detection and tracking \n",
    "\n",
    "Repository url: [Example Project 3](https://github.com/comicodex/ai-fall-exercises-2021/blob/main/M6_computer_vision/d8_background%20subtraction%20and%20object%20tracking/object%20tracking.ipynb) \n",
    "\n",
    "### Background subtractor\n",
    "Project description: removing background from video  \n",
    "Computer vision skills applied: background subtraction and thresholding \n",
    "\n",
    "Repository url: [Example Project 4](https://github.com/comicodex/ai-fall-exercises-2021/blob/main/M6_computer_vision/d8_background%20subtraction%20and%20object%20tracking/background%20subtraction%20exercises.ipynb) \n",
    "\n",
    "### Object tracker with YOLO\n",
    "Project description: tracking object with YOLO  \n",
    "Computer vision skills applied: model creation and configuration, object tracking \n",
    "\n",
    "Repository url: [Example Project 5](https://github.com/comicodex/ai-fall-exercises-2021/blob/main/M6_computer_vision/d9_DNN%2C%20SSD%20and%20YOLO/yolo-project/yolo.ipynb)"
   ]
  },
  {
   "cell_type": "markdown",
   "metadata": {},
   "source": [
    "### Anything else you would like to add or share?\n",
    "\n",
    "I found it extremely interesting to learn how Computer Vision trains machines to interpret and understand the visual world and am intrigued by its seemingly endless array of real-world applications."
   ]
  },
  {
   "cell_type": "code",
   "execution_count": null,
   "metadata": {},
   "outputs": [],
   "source": []
  }
 ],
 "metadata": {
  "kernelspec": {
   "display_name": "openCV",
   "language": "python",
   "name": "computer_vision"
  },
  "language_info": {
   "codemirror_mode": {
    "name": "ipython",
    "version": 3
   },
   "file_extension": ".py",
   "mimetype": "text/x-python",
   "name": "python",
   "nbconvert_exporter": "python",
   "pygments_lexer": "ipython3",
   "version": "3.8.5"
  }
 },
 "nbformat": 4,
 "nbformat_minor": 2
}
